{
  "nbformat": 4,
  "nbformat_minor": 0,
  "metadata": {
    "colab": {
      "name": "RNN for Image Classification.ipynb",
      "version": "0.3.2",
      "views": {},
      "default_view": {},
      "provenance": []
    },
    "kernelspec": {
      "display_name": "Python 3",
      "language": "python",
      "name": "python3"
    },
    "accelerator": "GPU"
  },
  "cells": [
    {
      "metadata": {
        "id": "CX0blLYXzFMq",
        "colab_type": "code",
        "colab": {
          "autoexec": {
            "startup": false,
            "wait_interval": 0
          }
        }
      },
      "cell_type": "code",
      "source": [
        "##Importing libraries \n",
        "\n",
        "import numpy as np\n",
        "import matplotlib.pyplot as plt\n",
        "import tensorflow as tf\n",
        "from tensorflow.contrib import rnn\n",
        "from tensorflow.examples.tutorials.mnist import input_data\n",
        "\n",
        "tf.reset_default_graph()\n"
      ],
      "execution_count": 0,
      "outputs": []
    },
    {
      "metadata": {
        "id": "v5q2P9W0zFMy",
        "colab_type": "code",
        "colab": {
          "autoexec": {
            "startup": false,
            "wait_interval": 0
          },
          "base_uri": "https://localhost:8080/",
          "height": 85
        },
        "outputId": "3f292330-d287-48ea-b1e9-d5bf5a2f27b5",
        "executionInfo": {
          "status": "ok",
          "timestamp": 1526725656267,
          "user_tz": -330,
          "elapsed": 4330,
          "user": {
            "displayName": "Physics for IIT-JEE By Arpan Gupta IIT Roorkee",
            "photoUrl": "//lh3.googleusercontent.com/-xVjqDbJQmr8/AAAAAAAAAAI/AAAAAAAAAFQ/PU7dBZDglzU/s50-c-k-no/photo.jpg",
            "userId": "115208507553064761315"
          }
        }
      },
      "cell_type": "code",
      "source": [
        "## Reading the data\n",
        "df=input_data.read_data_sets(\"/tmp/data/\",one_hot=True)"
      ],
      "execution_count": 80,
      "outputs": [
        {
          "output_type": "stream",
          "text": [
            "Extracting /tmp/data/train-images-idx3-ubyte.gz\n",
            "Extracting /tmp/data/train-labels-idx1-ubyte.gz\n",
            "Extracting /tmp/data/t10k-images-idx3-ubyte.gz\n",
            "Extracting /tmp/data/t10k-labels-idx1-ubyte.gz\n"
          ],
          "name": "stdout"
        }
      ]
    },
    {
      "metadata": {
        "id": "6VS6PfzazFNA",
        "colab_type": "code",
        "colab": {
          "autoexec": {
            "startup": false,
            "wait_interval": 0
          }
        }
      },
      "cell_type": "code",
      "source": [
        "###Neural Network Parameters\n",
        "### 28*28=784\n",
        "\n",
        "num_inputs = 28 #[Sequences] \n",
        "time_steps=28 #[timesteps]\n",
        "\n",
        "num_h = 128 \n",
        "num_classes=10\n"
      ],
      "execution_count": 0,
      "outputs": []
    },
    {
      "metadata": {
        "id": "Dcr3t5gfzFNG",
        "colab_type": "code",
        "colab": {
          "autoexec": {
            "startup": false,
            "wait_interval": 0
          }
        }
      },
      "cell_type": "code",
      "source": [
        "###Tensorflow data inputs\n",
        "\n",
        "X=tf.placeholder(\"float\",shape=[None,time_steps,num_inputs])\n",
        "Y=tf.placeholder(\"float\",shape=[None,num_classes])\n"
      ],
      "execution_count": 0,
      "outputs": []
    },
    {
      "metadata": {
        "id": "NMaymXkJzFNM",
        "colab_type": "code",
        "colab": {
          "autoexec": {
            "startup": false,
            "wait_interval": 0
          }
        }
      },
      "cell_type": "code",
      "source": [
        "### Neural Network training parameters\n",
        "\n",
        "batch_size=128\n",
        "num_steps=1000\n",
        "learning_rate=1e-1\n",
        "display_step=1000"
      ],
      "execution_count": 0,
      "outputs": []
    },
    {
      "metadata": {
        "id": "KUg5E1Y4zFNR",
        "colab_type": "code",
        "colab": {
          "autoexec": {
            "startup": false,
            "wait_interval": 0
          }
        }
      },
      "cell_type": "code",
      "source": [
        "###Creating Network Architechture\n",
        "\n",
        "def Rec_Net(X,W,b):\n",
        "\n",
        "    X = tf.unstack(X, time_steps, 1)\n",
        "\n",
        "    lstm_cell = rnn.BasicLSTMCell(num_h, forget_bias=1.0)\n",
        "\n",
        "    outputs, states = rnn.static_rnn(lstm_cell, X, dtype=tf.float32)\n",
        "\n",
        "    return tf.matmul(outputs[-1], W['w1']) + b['b1']"
      ],
      "execution_count": 0,
      "outputs": []
    },
    {
      "metadata": {
        "id": "Q80tQr96zFNW",
        "colab_type": "code",
        "colab": {
          "autoexec": {
            "startup": false,
            "wait_interval": 0
          }
        }
      },
      "cell_type": "code",
      "source": [
        "###Model Architechture Weights\n",
        "\n",
        "\n",
        "W={\"w1\":tf.Variable(tf.random_normal([num_h, num_classes]))} \n",
        "\n",
        "b={\"b1\":tf.Variable(tf.random_normal([num_classes]))}"
      ],
      "execution_count": 0,
      "outputs": []
    },
    {
      "metadata": {
        "id": "6EU6yvpWzFNa",
        "colab_type": "code",
        "colab": {
          "autoexec": {
            "startup": false,
            "wait_interval": 0
          }
        }
      },
      "cell_type": "code",
      "source": [
        "###Cost function Optimization & Model Evaluation\n",
        "\n",
        "probs=Rec_Net(X, W, b)\n",
        "predicted=tf.nn.softmax(probs)\n",
        "\n",
        "optim=tf.train.GradientDescentOptimizer(learning_rate=learning_rate)\n",
        "cost_fn=tf.reduce_mean(tf.nn.softmax_cross_entropy_with_logits(logits=probs,labels=Y))\n",
        "training=optim.minimize(cost_fn)\n",
        "\n",
        "\n",
        "actual=tf.argmax(Y,1)               ##   [[1,10,20],\n",
        "                                    ##    [5,7,30]]\n",
        "preds=tf.argmax(predicted,1)\n",
        "\n",
        "accuracy=tf.equal(actual,preds)\n",
        "accuracy=tf.cast(accuracy,tf.float32)\n",
        "accuracy=tf.reduce_mean(accuracy)\n",
        "\n"
      ],
      "execution_count": 0,
      "outputs": []
    },
    {
      "metadata": {
        "id": "5ZVMij_7zFNg",
        "colab_type": "code",
        "colab": {
          "autoexec": {
            "startup": false,
            "wait_interval": 0
          },
          "base_uri": "https://localhost:8080/",
          "height": 85
        },
        "outputId": "d5d4551a-cbf2-435b-c803-fa3984f78d8c",
        "executionInfo": {
          "status": "ok",
          "timestamp": 1526725825357,
          "user_tz": -330,
          "elapsed": 22208,
          "user": {
            "displayName": "Physics for IIT-JEE By Arpan Gupta IIT Roorkee",
            "photoUrl": "//lh3.googleusercontent.com/-xVjqDbJQmr8/AAAAAAAAAAI/AAAAAAAAAFQ/PU7dBZDglzU/s50-c-k-no/photo.jpg",
            "userId": "115208507553064761315"
          }
        }
      },
      "cell_type": "code",
      "source": [
        "# Initialize the variables (i.e. assign their default value)\n",
        "init = tf.global_variables_initializer()\n",
        "\n",
        "###Staring the Model training Session\n",
        "with tf.Session() as sess:\n",
        "\n",
        "    # Run the initializer\n",
        "    sess.run(init)\n",
        "\n",
        "    for step in range(1, num_steps+1):\n",
        "        batch_x, batch_y = df.train.next_batch(batch_size)\n",
        "        batch_x = batch_x.reshape((batch_size, time_steps, num_inputs))\n",
        "        # Run optimization op (backprop)\n",
        "        sess.run(training, feed_dict={X: batch_x, Y: batch_y})\n",
        "        if step % display_step == 0 or step == 1:\n",
        "            # Calculate batch loss and accuracy\n",
        "            loss, acc = sess.run([cost_fn, accuracy], feed_dict={X: batch_x,\n",
        "                                                                 Y: batch_y})\n",
        "            print(\"Step \" + str(step) +   \",   Minibatch Loss= \" + \\\n",
        "                  \"{:.4f}\".format(loss) + \", Training Accuracy= \" + \\\n",
        "                  \"{:.3f}\".format(acc))\n",
        "\n",
        "    print(\"Optimization Finished!\")\n",
        "    \n",
        "    # Calculate accuracy for 256 MNIST test images\n",
        "    print(\"Testing Accuracy:\", \\\n",
        "    sess.run(accuracy, feed_dict={X: df.test.images[:128].reshape((-1, time_steps, num_inputs)),\n",
        "                                      Y: df.test.labels[:128]}))\n",
        "\n",
        "\n"
      ],
      "execution_count": 91,
      "outputs": [
        {
          "output_type": "stream",
          "text": [
            "Step 1,   Minibatch Loss= 2.8645, Training Accuracy= 0.172\n",
            "Step 1000,   Minibatch Loss= 0.0595, Training Accuracy= 0.992\n",
            "Optimization Finished!\n",
            "Testing Accuracy: 0.96875\n"
          ],
          "name": "stdout"
        }
      ]
    },
    {
      "metadata": {
        "id": "FpUBeRXBzRyv",
        "colab_type": "code",
        "colab": {
          "autoexec": {
            "startup": false,
            "wait_interval": 0
          }
        }
      },
      "cell_type": "code",
      "source": [
        ""
      ],
      "execution_count": 0,
      "outputs": []
    }
  ]
}